{
  "nbformat": 4,
  "nbformat_minor": 0,
  "metadata": {
    "colab": {
      "provenance": [],
      "authorship_tag": "ABX9TyM/sUS/ke0kO3E6FzphaXVl",
      "include_colab_link": true
    },
    "kernelspec": {
      "name": "python3",
      "display_name": "Python 3"
    },
    "language_info": {
      "name": "python"
    }
  },
  "cells": [
    {
      "cell_type": "markdown",
      "metadata": {
        "id": "view-in-github",
        "colab_type": "text"
      },
      "source": [
        "<a href=\"https://colab.research.google.com/github/Jelanigarnes/PythonRegularExpressions/blob/main/re_pwd_english.ipynb\" target=\"_parent\"><img src=\"https://colab.research.google.com/assets/colab-badge.svg\" alt=\"Open In Colab\"/></a>"
      ]
    },
    {
      "cell_type": "markdown",
      "source": [
        "# Password Validation in Python (with regex)\n",
        "You need to write regex that will validate a password to make sure it meets the following criteria:\n",
        "- At least 8 characters\n",
        "- uppercase letters: A-Z\n",
        "- lowercase letters: a-z\n",
        "- numbers: 0-9\n",
        "- any of the special characters: @@#$%^&+=\n",
        "Letters/numbers/special characters are **optional**.\n",
        " "
      ],
      "metadata": {
        "id": "DhNijUABnduG"
      }
    },
    {
      "cell_type": "code",
      "source": [
        "regex = '[A-Aa-z0-9@#$%^&+=]{8,}'"
      ],
      "metadata": {
        "id": "wfAXpNEOo_Aq"
      },
      "execution_count": 1,
      "outputs": []
    },
    {
      "cell_type": "code",
      "source": [
        "import re\n",
        "pwd = input(\"Enter a password\")"
      ],
      "metadata": {
        "colab": {
          "base_uri": "https://localhost:8080/"
        },
        "id": "L5hGGwsgpSzs",
        "outputId": "50255e1e-3106-4fa3-b281-1cc735289d01"
      },
      "execution_count": 3,
      "outputs": [
        {
          "name": "stdout",
          "output_type": "stream",
          "text": [
            "Enter a passwordhey123456\n"
          ]
        }
      ]
    },
    {
      "cell_type": "code",
      "source": [
        "pwd"
      ],
      "metadata": {
        "colab": {
          "base_uri": "https://localhost:8080/",
          "height": 36
        },
        "id": "8yzWU7ZIppr9",
        "outputId": "f0071e14-8426-44ad-cab7-d4fe693ff8ba"
      },
      "execution_count": 4,
      "outputs": [
        {
          "output_type": "execute_result",
          "data": {
            "text/plain": [
              "'hey123456'"
            ],
            "application/vnd.google.colaboratory.intrinsic+json": {
              "type": "string"
            }
          },
          "metadata": {},
          "execution_count": 4
        }
      ]
    },
    {
      "cell_type": "code",
      "source": [
        "re.fullmatch(regex, pwd)"
      ],
      "metadata": {
        "colab": {
          "base_uri": "https://localhost:8080/"
        },
        "id": "REikp3cLpt-r",
        "outputId": "e4fdf01d-7472-42ce-8173-23e6e4b29a13"
      },
      "execution_count": 5,
      "outputs": [
        {
          "output_type": "execute_result",
          "data": {
            "text/plain": [
              "<re.Match object; span=(0, 9), match='hey123456'>"
            ]
          },
          "metadata": {},
          "execution_count": 5
        }
      ]
    },
    {
      "cell_type": "code",
      "source": [
        "if re.fullmatch(regex, pwd):\n",
        "  print(\"Match found\")\n",
        "else:\n",
        "  print(\"No match found\")"
      ],
      "metadata": {
        "colab": {
          "base_uri": "https://localhost:8080/"
        },
        "id": "05bMdVlmqAwL",
        "outputId": "9a9f0dbb-24fe-4082-a233-46812c000445"
      },
      "execution_count": 7,
      "outputs": [
        {
          "output_type": "stream",
          "name": "stdout",
          "text": [
            "Match found\n"
          ]
        }
      ]
    },
    {
      "cell_type": "markdown",
      "source": [
        "You need to write regex that will validate a password to make sure it meets **ALL** the following criteria:\n",
        "- At least six characters long\n",
        "- contains a lowercase letter\n",
        "- contains an uppercase letter\n",
        "- contains a number\n",
        "\n",
        "Valid passowrds will only be alphanumeric characters."
      ],
      "metadata": {
        "id": "m3tIuo1XocHo"
      }
    },
    {
      "cell_type": "code",
      "execution_count": 8,
      "metadata": {
        "id": "CIOG2WiCnGRI"
      },
      "outputs": [],
      "source": [
        "regex = '(?=.*[A-Z])(?=.*[a-z])(?=.*[0-9]{6,})'"
      ]
    },
    {
      "cell_type": "code",
      "source": [
        "re.fullmatch(regex, pwd)\n"
      ],
      "metadata": {
        "id": "lg2lI_zes0aX"
      },
      "execution_count": 11,
      "outputs": []
    },
    {
      "cell_type": "code",
      "source": [
        "if re.fullmatch(regex, pwd):\n",
        "  print(\"Match found\")\n",
        "else:\n",
        "  print(\"No match found\")"
      ],
      "metadata": {
        "colab": {
          "base_uri": "https://localhost:8080/"
        },
        "id": "0hsSi8KBs_7g",
        "outputId": "3ff5dc59-53fe-453c-8563-836cf5a954d6"
      },
      "execution_count": 12,
      "outputs": [
        {
          "output_type": "stream",
          "name": "stdout",
          "text": [
            "No match found\n"
          ]
        }
      ]
    }
  ]
}