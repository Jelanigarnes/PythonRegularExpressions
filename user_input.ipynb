{
  "nbformat": 4,
  "nbformat_minor": 0,
  "metadata": {
    "colab": {
      "provenance": [],
      "authorship_tag": "ABX9TyMUPKYJsL58Pmt/2tGHClsp",
      "include_colab_link": true
    },
    "kernelspec": {
      "name": "python3",
      "display_name": "Python 3"
    },
    "language_info": {
      "name": "python"
    }
  },
  "cells": [
    {
      "cell_type": "markdown",
      "metadata": {
        "id": "view-in-github",
        "colab_type": "text"
      },
      "source": [
        "<a href=\"https://colab.research.google.com/github/Jelanigarnes/PythonRegularExpressions/blob/main/user_input.ipynb\" target=\"_parent\"><img src=\"https://colab.research.google.com/assets/colab-badge.svg\" alt=\"Open In Colab\"/></a>"
      ]
    },
    {
      "cell_type": "markdown",
      "source": [
        "# User Input"
      ],
      "metadata": {
        "id": "_JevYEreuRx9"
      }
    },
    {
      "cell_type": "markdown",
      "source": [
        "**Time Format Validation**\n",
        "\n",
        "A web application calcuates health statistics based on the sleep duration of your users. Your users enter the time they went to bed and the time they wake up.An example for the correct time format is 12:45\n",
        "\n",
        "Write a time-format that determines whether the input is worth processing further with your backend application."
      ],
      "metadata": {
        "id": "tlc0Wb-duWJE"
      }
    },
    {
      "cell_type": "code",
      "execution_count": 8,
      "metadata": {
        "id": "6rIrOL6HuJIm"
      },
      "outputs": [],
      "source": [
        "inputs = ['18:29', '23:55', '123', 'ab:de', '18:299', '99:99']"
      ]
    },
    {
      "cell_type": "code",
      "source": [
        "input1 = '12:455'\n",
        "input2 = '12:48'"
      ],
      "metadata": {
        "id": "gM25trIJx6lQ"
      },
      "execution_count": 6,
      "outputs": []
    },
    {
      "cell_type": "code",
      "source": [
        "import re\n",
        "print(re.fullmatch('[0-9]{2}:[0-9]{2}', input1))\n",
        "print(re.fullmatch('[0-9]{2}:[0-9]{2}', input2))"
      ],
      "metadata": {
        "colab": {
          "base_uri": "https://localhost:8080/"
        },
        "id": "zqwq6LDvyBlu",
        "outputId": "370c5478-8032-4ec9-a7c0-4d29de29e093"
      },
      "execution_count": 7,
      "outputs": [
        {
          "output_type": "stream",
          "name": "stdout",
          "text": [
            "None\n",
            "<re.Match object; span=(0, 5), match='12:48'>\n"
          ]
        }
      ]
    },
    {
      "cell_type": "code",
      "source": [
        "[re.fullmatch('[0-9]{2}:[0-9]{2}', x) for x in inputs]"
      ],
      "metadata": {
        "colab": {
          "base_uri": "https://localhost:8080/"
        },
        "id": "gogrOcXKywKG",
        "outputId": "427b95a6-5df6-4f89-8f40-201088893807"
      },
      "execution_count": 9,
      "outputs": [
        {
          "output_type": "execute_result",
          "data": {
            "text/plain": [
              "[<re.Match object; span=(0, 5), match='18:29'>,\n",
              " <re.Match object; span=(0, 5), match='23:55'>,\n",
              " None,\n",
              " None,\n",
              " None,\n",
              " <re.Match object; span=(0, 5), match='99:99'>]"
            ]
          },
          "metadata": {},
          "execution_count": 9
        }
      ]
    },
    {
      "cell_type": "markdown",
      "source": [
        "Next, the given time must be a valid time format in the 24-hour time ranging from 00:00 to 23:59"
      ],
      "metadata": {
        "id": "uTfre9dAwHJd"
      }
    },
    {
      "cell_type": "code",
      "source": [
        "regex = '([01][0-9]|2[0-3]):([0-5][0-9])'"
      ],
      "metadata": {
        "id": "ExVDRq07wYVF"
      },
      "execution_count": 10,
      "outputs": []
    },
    {
      "cell_type": "code",
      "source": [
        "[re.fullmatch(regex, x) for x in inputs]"
      ],
      "metadata": {
        "colab": {
          "base_uri": "https://localhost:8080/"
        },
        "id": "-j6Dfqnlz0VU",
        "outputId": "3ff35c14-b71b-4c69-915c-f61e2d61228d"
      },
      "execution_count": 11,
      "outputs": [
        {
          "output_type": "execute_result",
          "data": {
            "text/plain": [
              "[<re.Match object; span=(0, 5), match='18:29'>,\n",
              " <re.Match object; span=(0, 5), match='23:55'>,\n",
              " None,\n",
              " None,\n",
              " None,\n",
              " None]"
            ]
          },
          "metadata": {},
          "execution_count": 11
        }
      ]
    },
    {
      "cell_type": "markdown",
      "source": [
        "**EMAIL VALIDATION**"
      ],
      "metadata": {
        "id": "GxhMASncwaZU"
      }
    },
    {
      "cell_type": "code",
      "source": [
        "inputs = ['ro$g45@gmail.com', 'r_duke78o@outlook.coma', 's.rog78o@outlook.com']"
      ],
      "metadata": {
        "id": "8l2OUxWowsaf"
      },
      "execution_count": 15,
      "outputs": []
    },
    {
      "cell_type": "code",
      "source": [
        "regex = '^(\\w|\\.|\\_|\\-)+[@]\\w+[.]\\w{2,3}$'"
      ],
      "metadata": {
        "id": "P8cut4n-0GMT"
      },
      "execution_count": 13,
      "outputs": []
    },
    {
      "cell_type": "code",
      "source": [
        "[re.fullmatch(regex, x) for x in inputs]"
      ],
      "metadata": {
        "colab": {
          "base_uri": "https://localhost:8080/"
        },
        "id": "Zz5eOHGT2dR-",
        "outputId": "2db9b1d4-e978-490f-9e1d-5ca4f8ab885b"
      },
      "execution_count": 16,
      "outputs": [
        {
          "output_type": "execute_result",
          "data": {
            "text/plain": [
              "[None, None, <re.Match object; span=(0, 20), match='s.rog78o@outlook.com'>]"
            ]
          },
          "metadata": {},
          "execution_count": 16
        }
      ]
    },
    {
      "cell_type": "markdown",
      "source": [
        "**USERNAME VALIDATION**\n",
        "\n",
        "username is character only allowing for underscore _ and . only"
      ],
      "metadata": {
        "id": "hKx-mv8qxM9B"
      }
    },
    {
      "cell_type": "code",
      "source": [
        "inputs = ['esgui_de', 'aroger', 'a.roger_de', 'e.segui_2']"
      ],
      "metadata": {
        "id": "O_GtpQ0HxhoK"
      },
      "execution_count": 17,
      "outputs": []
    },
    {
      "cell_type": "code",
      "source": [
        "regex = '^[a-zA-Z_.]+$'"
      ],
      "metadata": {
        "id": "6n1SGnTh2w8T"
      },
      "execution_count": 18,
      "outputs": []
    },
    {
      "cell_type": "code",
      "source": [
        "[re.fullmatch(regex, x) for x in inputs]"
      ],
      "metadata": {
        "colab": {
          "base_uri": "https://localhost:8080/"
        },
        "id": "rovq2sTD28dl",
        "outputId": "fe17c5a9-35b5-4c9c-8c43-0f0d87182fe4"
      },
      "execution_count": 19,
      "outputs": [
        {
          "output_type": "execute_result",
          "data": {
            "text/plain": [
              "[<re.Match object; span=(0, 8), match='esgui_de'>,\n",
              " <re.Match object; span=(0, 6), match='aroger'>,\n",
              " <re.Match object; span=(0, 10), match='a.roger_de'>,\n",
              " None]"
            ]
          },
          "metadata": {},
          "execution_count": 19
        }
      ]
    }
  ]
}