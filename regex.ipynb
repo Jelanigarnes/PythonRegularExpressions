{
  "nbformat": 4,
  "nbformat_minor": 0,
  "metadata": {
    "colab": {
      "provenance": [],
      "collapsed_sections": [
        "5Lr2gdX6hsGV",
        "UVI-VXY6imYk"
      ],
      "authorship_tag": "ABX9TyOHZzrB4psRDZzMuMp4+Hdb",
      "include_colab_link": true
    },
    "kernelspec": {
      "name": "python3",
      "display_name": "Python 3"
    },
    "language_info": {
      "name": "python"
    }
  },
  "cells": [
    {
      "cell_type": "markdown",
      "metadata": {
        "id": "view-in-github",
        "colab_type": "text"
      },
      "source": [
        "<a href=\"https://colab.research.google.com/github/Jelanigarnes/PythonRegularExpressions/blob/main/regex.ipynb\" target=\"_parent\"><img src=\"https://colab.research.google.com/assets/colab-badge.svg\" alt=\"Open In Colab\"/></a>"
      ]
    },
    {
      "cell_type": "markdown",
      "source": [
        "Learn regular expression in python"
      ],
      "metadata": {
        "id": "L6AVIaOUha4i"
      }
    },
    {
      "cell_type": "code",
      "execution_count": 1,
      "metadata": {
        "id": "YSOLsg46g2dJ"
      },
      "outputs": [],
      "source": [
        "import re"
      ]
    },
    {
      "cell_type": "markdown",
      "source": [
        "# [Metacharacters]\n",
        "^$"
      ],
      "metadata": {
        "id": "5Lr2gdX6hsGV"
      }
    },
    {
      "cell_type": "code",
      "source": [
        "st = 'dogs are cool'"
      ],
      "metadata": {
        "id": "VSeH96Qgh8jF"
      },
      "execution_count": 2,
      "outputs": []
    },
    {
      "cell_type": "code",
      "source": [
        "p = '^dogs'"
      ],
      "metadata": {
        "id": "PZk6jvS2iFwp"
      },
      "execution_count": 3,
      "outputs": []
    },
    {
      "cell_type": "code",
      "source": [
        "re.search(p, st)"
      ],
      "metadata": {
        "colab": {
          "base_uri": "https://localhost:8080/"
        },
        "id": "6SqA_GZNiLFQ",
        "outputId": "26420704-5a7c-427e-889f-15386cc92407"
      },
      "execution_count": 4,
      "outputs": [
        {
          "output_type": "execute_result",
          "data": {
            "text/plain": [
              "<re.Match object; span=(0, 4), match='dogs'>"
            ]
          },
          "metadata": {},
          "execution_count": 4
        }
      ]
    },
    {
      "cell_type": "code",
      "source": [
        "p2 = 'dogs$'"
      ],
      "metadata": {
        "id": "X-Ln9wzMiYcL"
      },
      "execution_count": 5,
      "outputs": []
    },
    {
      "cell_type": "code",
      "source": [
        "print(re.search(p2,st))"
      ],
      "metadata": {
        "colab": {
          "base_uri": "https://localhost:8080/"
        },
        "id": "wnMOv0Buifap",
        "outputId": "cff0dc7d-5ad2-404b-f98b-c114337ce4ce"
      },
      "execution_count": 6,
      "outputs": [
        {
          "output_type": "stream",
          "name": "stdout",
          "text": [
            "None\n"
          ]
        }
      ]
    },
    {
      "cell_type": "markdown",
      "source": [
        "# Quantifiers\n",
        "?+*"
      ],
      "metadata": {
        "id": "UVI-VXY6imYk"
      }
    },
    {
      "cell_type": "code",
      "source": [
        "st2 = 'color'\n",
        "st3 = 'colour'"
      ],
      "metadata": {
        "id": "3KCIxXaaivqy"
      },
      "execution_count": 7,
      "outputs": []
    },
    {
      "cell_type": "code",
      "source": [
        "re.search('colou?r', st3)"
      ],
      "metadata": {
        "colab": {
          "base_uri": "https://localhost:8080/"
        },
        "id": "F3zSp5AFi3vp",
        "outputId": "784193df-f4cd-4b31-8da5-a308bcad13e2"
      },
      "execution_count": 9,
      "outputs": [
        {
          "output_type": "execute_result",
          "data": {
            "text/plain": [
              "<re.Match object; span=(0, 6), match='colour'>"
            ]
          },
          "metadata": {},
          "execution_count": 9
        }
      ]
    },
    {
      "cell_type": "code",
      "source": [
        "st4 = 'ac'\n",
        "st5 = 'abc'\n",
        "st6 = 'abbc'"
      ],
      "metadata": {
        "id": "GuqIw2yBjLpJ"
      },
      "execution_count": 10,
      "outputs": []
    },
    {
      "cell_type": "code",
      "source": [
        "re.search('ab+c',st5)"
      ],
      "metadata": {
        "colab": {
          "base_uri": "https://localhost:8080/"
        },
        "id": "ICH5q5hSjXIa",
        "outputId": "9b056f2c-50df-4583-9a85-3aef0923a1d3"
      },
      "execution_count": 11,
      "outputs": [
        {
          "output_type": "execute_result",
          "data": {
            "text/plain": [
              "<re.Match object; span=(0, 3), match='abc'>"
            ]
          },
          "metadata": {},
          "execution_count": 11
        }
      ]
    },
    {
      "cell_type": "markdown",
      "source": [
        "# Metacharacters\n",
        "-."
      ],
      "metadata": {
        "id": "3mjqBtbejkNl"
      }
    },
    {
      "cell_type": "markdown",
      "source": [
        "# Sets\n",
        "[]\n",
        "\n",
        "[^a-n] - not in a to n\n",
        "\n",
        "[0145] - search 1234\n",
        "\n",
        "[0-9] - range\n",
        "\n",
        "[a-Z] - lower and upper case"
      ],
      "metadata": {
        "id": "OYlDefSKkCjs"
      }
    },
    {
      "cell_type": "code",
      "source": [
        "str = 'dogs are cool'\n"
      ],
      "metadata": {
        "id": "r9DI2T9lknKE"
      },
      "execution_count": 15,
      "outputs": []
    },
    {
      "cell_type": "code",
      "source": [
        "re.search('[a-d]',str)"
      ],
      "metadata": {
        "colab": {
          "base_uri": "https://localhost:8080/"
        },
        "id": "nK_snwrkk-jD",
        "outputId": "1dbee046-e93d-46cf-ecb9-66bcc4743cad"
      },
      "execution_count": 16,
      "outputs": [
        {
          "output_type": "execute_result",
          "data": {
            "text/plain": [
              "<re.Match object; span=(0, 1), match='d'>"
            ]
          },
          "metadata": {},
          "execution_count": 16
        }
      ]
    },
    {
      "cell_type": "code",
      "source": [
        "re.findall('[a-d]',str)"
      ],
      "metadata": {
        "colab": {
          "base_uri": "https://localhost:8080/"
        },
        "id": "U8AVsnNdlXYl",
        "outputId": "ef18602d-26b7-46c3-e596-5daef4c453be"
      },
      "execution_count": 17,
      "outputs": [
        {
          "output_type": "execute_result",
          "data": {
            "text/plain": [
              "['d', 'a', 'c']"
            ]
          },
          "metadata": {},
          "execution_count": 17
        }
      ]
    },
    {
      "cell_type": "markdown",
      "source": [
        "# Special Sequences\n",
        "\\d [0-9]\n",
        "\n",
        "\\w [0-9a-Z]"
      ],
      "metadata": {
        "id": "T3F45Lr3lfhO"
      }
    },
    {
      "cell_type": "code",
      "source": [
        "re.search('\\d','my password is pass1234')"
      ],
      "metadata": {
        "colab": {
          "base_uri": "https://localhost:8080/"
        },
        "id": "ZLxV3gZoludx",
        "outputId": "3622166c-0853-4aad-9be6-ae87c1133375"
      },
      "execution_count": 18,
      "outputs": [
        {
          "output_type": "execute_result",
          "data": {
            "text/plain": [
              "<re.Match object; span=(19, 20), match='1'>"
            ]
          },
          "metadata": {},
          "execution_count": 18
        }
      ]
    },
    {
      "cell_type": "code",
      "source": [
        "re.findall('\\d','my password is pass1234')"
      ],
      "metadata": {
        "colab": {
          "base_uri": "https://localhost:8080/"
        },
        "id": "5gkYG4Bgl5DX",
        "outputId": "15574027-cbf3-4042-ca4d-ca6edeaea2bc"
      },
      "execution_count": 19,
      "outputs": [
        {
          "output_type": "execute_result",
          "data": {
            "text/plain": [
              "['1', '2', '3', '4']"
            ]
          },
          "metadata": {},
          "execution_count": 19
        }
      ]
    },
    {
      "cell_type": "code",
      "source": [
        "re.findall('\\w','my password is pass1234')"
      ],
      "metadata": {
        "colab": {
          "base_uri": "https://localhost:8080/"
        },
        "id": "kg6qgkmgmAyr",
        "outputId": "d241294b-791d-4fa8-f341-768c4d71ee41"
      },
      "execution_count": 20,
      "outputs": [
        {
          "output_type": "execute_result",
          "data": {
            "text/plain": [
              "['m',\n",
              " 'y',\n",
              " 'p',\n",
              " 'a',\n",
              " 's',\n",
              " 's',\n",
              " 'w',\n",
              " 'o',\n",
              " 'r',\n",
              " 'd',\n",
              " 'i',\n",
              " 's',\n",
              " 'p',\n",
              " 'a',\n",
              " 's',\n",
              " 's',\n",
              " '1',\n",
              " '2',\n",
              " '3',\n",
              " '4']"
            ]
          },
          "metadata": {},
          "execution_count": 20
        }
      ]
    }
  ]
}