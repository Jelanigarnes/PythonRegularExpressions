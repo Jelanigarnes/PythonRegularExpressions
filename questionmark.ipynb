{
  "nbformat": 4,
  "nbformat_minor": 0,
  "metadata": {
    "colab": {
      "provenance": [],
      "authorship_tag": "ABX9TyPzCeWdHbRnYxqdDaoXBhUw",
      "include_colab_link": true
    },
    "kernelspec": {
      "name": "python3",
      "display_name": "Python 3"
    },
    "language_info": {
      "name": "python"
    }
  },
  "cells": [
    {
      "cell_type": "markdown",
      "metadata": {
        "id": "view-in-github",
        "colab_type": "text"
      },
      "source": [
        "<a href=\"https://colab.research.google.com/github/Jelanigarnes/PythonRegularExpressions/blob/main/questionmark.ipynb\" target=\"_parent\"><img src=\"https://colab.research.google.com/assets/colab-badge.svg\" alt=\"Open In Colab\"/></a>"
      ]
    },
    {
      "cell_type": "markdown",
      "source": [
        "# Question mark?\n",
        "Question mark ? is the 'option' regex meaning 0 or 1 occurance.\n",
        "\n",
        "Question mark ? can also be used in combination with other special characters and means something else.\n",
        "\n",
        "asterisks * means 0 or more occurance of the precending element.\n",
        "\n",
        "By default, the engine returns \"more occurances\". If we want to force the 0 occurances, we use ? after the * "
      ],
      "metadata": {
        "id": "r36mcGOQ3RK8"
      }
    },
    {
      "cell_type": "code",
      "execution_count": 1,
      "metadata": {
        "id": "V9WDLjOD3NS9"
      },
      "outputs": [],
      "source": [
        "import re"
      ]
    },
    {
      "cell_type": "code",
      "source": [
        "text = 'abcdefghujhg'"
      ],
      "metadata": {
        "id": "T81srVVt4TuA"
      },
      "execution_count": 2,
      "outputs": []
    },
    {
      "cell_type": "code",
      "source": [
        "re.findall('ab.*', text)"
      ],
      "metadata": {
        "colab": {
          "base_uri": "https://localhost:8080/"
        },
        "id": "_SQ4BYMb4bEl",
        "outputId": "217311c9-dcea-475a-969a-b7e6dcb28088"
      },
      "execution_count": 4,
      "outputs": [
        {
          "output_type": "execute_result",
          "data": {
            "text/plain": [
              "['abcdefghujhg']"
            ]
          },
          "metadata": {},
          "execution_count": 4
        }
      ]
    },
    {
      "cell_type": "code",
      "source": [
        "re.findall('ab.*?', text)"
      ],
      "metadata": {
        "colab": {
          "base_uri": "https://localhost:8080/"
        },
        "id": "gCoq_4eH5113",
        "outputId": "ac310b35-802a-4df6-85fe-45a7b45402f1"
      },
      "execution_count": 5,
      "outputs": [
        {
          "output_type": "execute_result",
          "data": {
            "text/plain": [
              "['ab']"
            ]
          },
          "metadata": {},
          "execution_count": 5
        }
      ]
    },
    {
      "cell_type": "code",
      "source": [
        "text = 'peter piper picked a peck of pickled peppers'"
      ],
      "metadata": {
        "id": "1nGD9-jI4bhf"
      },
      "execution_count": 6,
      "outputs": []
    },
    {
      "cell_type": "code",
      "source": [
        "re.findall('p.*e.*r', text)"
      ],
      "metadata": {
        "colab": {
          "base_uri": "https://localhost:8080/"
        },
        "id": "DGa98q364jqd",
        "outputId": "7ba5227c-a618-41c9-e161-ea2d1c52788f"
      },
      "execution_count": 7,
      "outputs": [
        {
          "output_type": "execute_result",
          "data": {
            "text/plain": [
              "['peter piper picked a peck of pickled pepper']"
            ]
          },
          "metadata": {},
          "execution_count": 7
        }
      ]
    },
    {
      "cell_type": "code",
      "source": [
        "re.findall('p.*?e.*?r', text)"
      ],
      "metadata": {
        "colab": {
          "base_uri": "https://localhost:8080/"
        },
        "id": "2pDLKs206FmT",
        "outputId": "324df210-ee74-41ce-abc8-02d5412c864f"
      },
      "execution_count": 8,
      "outputs": [
        {
          "output_type": "execute_result",
          "data": {
            "text/plain": [
              "['peter', 'piper', 'picked a peck of pickled pepper']"
            ]
          },
          "metadata": {},
          "execution_count": 8
        }
      ]
    },
    {
      "cell_type": "markdown",
      "source": [
        "# Problem 1\n",
        "Find a match that starts with 'crypto', then matches at the most 30 arbitrary characters and match ends when the last word is 'coin'"
      ],
      "metadata": {
        "id": "zzZUQ7-v4knj"
      }
    },
    {
      "cell_type": "code",
      "source": [
        "text = \"crypto-bot that is trading Bitcoin and other currencies\""
      ],
      "metadata": {
        "id": "RMAP-ym65RAM"
      },
      "execution_count": 9,
      "outputs": []
    },
    {
      "cell_type": "code",
      "source": [
        "re.match('crypto(.{1,30})coin')"
      ],
      "metadata": {
        "id": "MgLftuSb6W7D"
      },
      "execution_count": null,
      "outputs": []
    }
  ]
}